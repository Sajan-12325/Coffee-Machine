{
 "cells": [
  {
   "cell_type": "code",
   "execution_count": null,
   "id": "58375bac",
   "metadata": {},
   "outputs": [],
   "source": [
    "class Coffee:\n",
    "    def __init__(self, milk, water, coffee_powder):\n",
    "        self.water = water\n",
    "        self.coffee_powder = coffee_powder\n",
    "        self.milk = milk\n",
    "        self.coffee_type = {\n",
    "            \"espresso\": {\"water\": 80, \"coffee\": 18, \"cost\": 1.5},\n",
    "            \"latte\": {\"water\": 0, \"coffee\": 24, \"cost\": 2.5},\n",
    "            \"cappuccino\": {\"water\": 50, \"coffee\": 24, \"cost\": 3.0}\n",
    "        }\n",
    "    def print_menu(self):\n",
    "        print(\"Coffee Menu:\")\n",
    "        \n",
    "        for coffee in self.coffee_types:\n",
    "            print(f\"{coffee.capitalize()}: ${self.coffee_types[coffee]['cost']:.2f}\")\n",
    "    def check(self):\n",
    "        if self.coffee_powder < 15:\n",
    "            return \"Not enough coffee powder\"\n",
    "        if self.water < 150:\n",
    "            return \"Not enough water to make coffee.\"\n",
    "        if self.milk < 100:\n",
    "            return \"Not enough milk to make coffee.\"\n",
    "        else:\n",
    "            pass\n",
    "    def make_latte():\n",
    "        self.check()\n",
    "        \n",
    "    def make_espresso():\n",
    "        self.check()\n",
    "    def make_cappuccino():\n",
    "        self.check()\n",
    "    \n",
    "\n",
    "def main():\n",
    "    water = 500\n",
    "    coffee_powder = 100\n",
    "    milk = 500\n",
    "    machine = CoffeeMachine(milk, water, coffee_powder)\n",
    "    while True:\n",
    "        machine.print_menu()\n",
    "        coffee_type = input(\"Enter your coffee choice (or 'q' to quit): \").title()\n",
    "        if coffee_type == \"Latte\":\n",
    "            self.make_latte()\n",
    "        elif coffee_type == \"Espresso\":\n",
    "            self.make_espresso()\n",
    "        elif coffee_type == \"Cappuccino\":\n",
    "            self.make_cappuccino()\n",
    "        elif coffee_type == 'q':\n",
    "            break\n",
    "        else:\n",
    "            return \"Invalid coffee variety. Please choose Latte, Espresso, or Cappuccino.\"\n",
    "        \n",
    "        print(f\"Your {coffee_type} is ready\")\n",
    "        \n",
    "\n",
    "if __name__ == \"__main__\":\n",
    "    main()    \n",
    "\n"
   ]
  },
  {
   "cell_type": "code",
   "execution_count": null,
   "id": "69d8cb3e",
   "metadata": {},
   "outputs": [],
   "source": [
    "def Coffee_machine(Coffee):\n",
    "    pass\n",
    "\n",
    "Coffee_type = ['Espresso', 'Latte', 'Cappuccino']"
   ]
  }
 ],
 "metadata": {
  "kernelspec": {
   "display_name": "Python 3 (ipykernel)",
   "language": "python",
   "name": "python3"
  },
  "language_info": {
   "codemirror_mode": {
    "name": "ipython",
    "version": 3
   },
   "file_extension": ".py",
   "mimetype": "text/x-python",
   "name": "python",
   "nbconvert_exporter": "python",
   "pygments_lexer": "ipython3",
   "version": "3.11.5"
  }
 },
 "nbformat": 4,
 "nbformat_minor": 5
}
