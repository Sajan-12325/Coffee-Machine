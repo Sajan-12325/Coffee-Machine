{
 "cells": [
  {
   "cell_type": "code",
   "execution_count": null,
   "id": "58375bac",
   "metadata": {},
   "outputs": [],
   "source": []
  },
  {
   "cell_type": "code",
   "execution_count": 56,
   "id": "69d8cb3e",
   "metadata": {},
   "outputs": [
    {
     "name": "stdout",
     "output_type": "stream",
     "text": [
      "\n",
      "Coffee Menu:\n",
      "Espresso: $4.50\n",
      "Latte: $5.45\n",
      "Cappuccino: $5.45\n",
      "Cold Coffee: $6.00\n",
      "\n",
      "Enter your coffee choice (or 'q' to quit): cold coffee\n",
      "Number of sugar cubes (0-5):  2\n",
      "\n",
      "Your Cold Coffee is Ready! ☕\n",
      "\n",
      "Remaining Ingredients:\n",
      " Water: 500ml, Milk: 430ml, Sugar: 18 cubes, Foam Milk: 430ml, ice: 47cubes, Coffee Powder: 86g\n",
      "\n",
      "Enter your coffee choice (or 'q' to quit): q\n",
      "Your Total bill is: 6.00$\n",
      "\n",
      "Thank you! Have a great day! ☕😊\n"
     ]
    }
   ],
   "source": [
    "class Coffee:\n",
    "    \n",
    "    def __init__(self, milk, sugar, water, foam_milk, ice, coffee_powder):\n",
    "        self.water = water\n",
    "        self.coffee_powder = coffee_powder\n",
    "        self.milk = milk\n",
    "        self.sugar = sugar\n",
    "        self.foam_milk = foam_milk\n",
    "        self.ice = ice\n",
    "        self.coffee_types = {\n",
    "            \"Espresso\": {\"water\": 80, \"coffee_powder\": 14, \"cost\": 4.5},\n",
    "            \"Latte\": {\"water\": 80, \"milk\": 100, \"foam_milk\": 50, \"coffee_powder\": 14, \"cost\": 5.45},\n",
    "            \"Cappuccino\": {\"water\": 80, \"milk\": 70, \"foam_milk\": 70, \"coffee_powder\": 14, \"cost\": 5.45},\n",
    "            \"Cold Coffee\": {\"ice\": 3, \"milk\": 70, \"foam_milk\": 70, \"coffee_powder\": 14, \"cost\": 6.00}\n",
    "        }\n",
    "        self.bill = 0\n",
    "\n",
    "    def print_menu(self):\n",
    "        print(\"\\nCoffee Menu:\")\n",
    "        for coffee, details in self.coffee_types.items():\n",
    "            print(f\"{coffee}: ${details['cost']:.2f}\")\n",
    "\n",
    "    def check_ingredients(self, coffee, sugar):\n",
    "        check = self.coffee_types.get(coffee, {})\n",
    "\n",
    "        if not check:\n",
    "            print(\"⚠️ Invalid coffee type. Please select from the menu.\")\n",
    "            return False\n",
    "        if self.coffee_powder < check.get(\"coffee_powder\", 0):\n",
    "            print(\"❌ Not enough coffee powder.\")\n",
    "            return False\n",
    "        if self.water < check.get(\"water\", 0):\n",
    "            print(\"❌ Not enough water.\")\n",
    "            return False\n",
    "        \n",
    "        if self.milk < check.get(\"milk\", 0):\n",
    "            print(\"❌ Not enough milk.\")\n",
    "            return False\n",
    "        if self.foam_milk < check.get(\"foam_milk\", 0):\n",
    "            print(\"❌ Not enough foam milk.\")\n",
    "            return False\n",
    "        if self.ice < check.get(\"ice\", 0):\n",
    "            print(\"❌ Not enough  ice.\")\n",
    "            return False\n",
    "        if self.sugar < sugar:\n",
    "            print(\"❌ Not enough sugar cubes.\")\n",
    "            return False\n",
    "        \n",
    "        return True\n",
    "\n",
    "    def make_coffee(self, coffee, sugar):\n",
    "        if not self.check_ingredients(coffee, sugar):\n",
    "            print(\"Ingredients are not sufficient.\\n\")\n",
    "            return\n",
    "\n",
    "        self.water -= self.coffee_types[coffee].get('water', 0)\n",
    "        self.milk -= self.coffee_types[coffee].get('milk', 0)\n",
    "        self.sugar -= sugar\n",
    "        self.foam_milk -= self.coffee_types[coffee].get('foam_milk', 0)\n",
    "        self.ice -= self.coffee_types[coffee].get('ice', 0)\n",
    "        self.coffee_powder -= self.coffee_types[coffee].get('coffee_powder', 0)\n",
    "        self.bill = self.bill + self.coffee_types[coffee].get('cost', 0)\n",
    "\n",
    "        print(f\"\\nYour {coffee} is Ready! ☕\\n\")\n",
    "        print(f\"Remaining Ingredients:\\n Water: {self.water}ml, Milk: {self.milk}ml, Sugar: {self.sugar} cubes, Foam Milk: {self.foam_milk}ml, ice: {self.ice}cubes, Coffee Powder: {self.coffee_powder}g\")\n",
    "\n",
    "def main():\n",
    "    water = 500\n",
    "    coffee_powder = 100\n",
    "    milk = 500\n",
    "    sugar = 20 ## cubes\n",
    "    foam_milk = 500\n",
    "    ice = 50\n",
    "    machine = Coffee(milk, sugar, water, foam_milk, ice, coffee_powder)\n",
    "    machine.print_menu()\n",
    "\n",
    "    while True:\n",
    "        coffee_type = input(\"\\nEnter your coffee choice (or 'q' to quit): \").title()\n",
    "        \n",
    "        if coffee_type == 'Q':\n",
    "            \n",
    "            print(f\"Your Total bill is: {machine.bill:.2f}$\", )\n",
    "            print(\"\\nThank you! Have a great day! ☕😊\")\n",
    "            break\n",
    "        elif coffee_type in machine.coffee_types:\n",
    "            sugar_cubes = int(input(\"Number of sugar cubes (0-5):  \"))\n",
    "            machine.make_coffee(coffee_type, sugar_cubes)  # Only proceed if valid\n",
    "        else:\n",
    "            print(\"Invalid choice. Please select from the menu.\")\n",
    "\n",
    "if __name__ == \"__main__\":\n",
    "    main()"
   ]
  },
  {
   "cell_type": "code",
   "execution_count": 54,
   "id": "4eca4ade",
   "metadata": {},
   "outputs": [
    {
     "name": "stdout",
     "output_type": "stream",
     "text": [
      "Cold Coffee\n"
     ]
    }
   ],
   "source": [
    "print(\"cold coffee\".title())"
   ]
  },
  {
   "cell_type": "code",
   "execution_count": null,
   "id": "8201552d",
   "metadata": {},
   "outputs": [],
   "source": []
  }
 ],
 "metadata": {
  "kernelspec": {
   "display_name": "Python 3 (ipykernel)",
   "language": "python",
   "name": "python3"
  },
  "language_info": {
   "codemirror_mode": {
    "name": "ipython",
    "version": 3
   },
   "file_extension": ".py",
   "mimetype": "text/x-python",
   "name": "python",
   "nbconvert_exporter": "python",
   "pygments_lexer": "ipython3",
   "version": "3.11.5"
  }
 },
 "nbformat": 4,
 "nbformat_minor": 5
}
